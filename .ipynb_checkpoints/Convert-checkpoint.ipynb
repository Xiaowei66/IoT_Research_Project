{
 "cells": [
  {
   "cell_type": "code",
   "execution_count": null,
   "metadata": {},
   "outputs": [],
   "source": [
    "# We have three input here\n",
    "# one is the starting coordinates, the other one the test length, the third one is the label number\n",
    "\n",
    "# starting point(left& up point), Latitude: -33.794505 & Longitude:151.181626\n",
    "# test length 3.6 meter\n",
    "# start label: -2"
   ]
  },
  {
   "cell_type": "code",
   "execution_count": 10,
   "metadata": {},
   "outputs": [],
   "source": [
    "from sympy import *\n",
    "from math import radians, cos, sin, asin, sqrt\n",
    "\n",
    "class Get_new_gps():\n",
    "    def __init__(self):\n",
    "        # 地球半径\n",
    "        self.R = 6371 * 1000\n",
    "        pass\n",
    "    \n",
    "    def get_new_lng_angle(self, lng1, lat1, dist=500, angle=30):\n",
    "            \"\"\"\n",
    "\n",
    "            :param lng1:116.55272514141352\n",
    "            :param lat1:30.28708\n",
    "            :param dist:指定距离\n",
    "            :param angle:指定角度\n",
    "            :return:（0.0091871843081617/pi + 116.498079 0.0122339171779312/pi + 39.752304）\n",
    "            \"\"\"\n",
    "            lat2 = 180 * dist*sin(radians(angle)) / (self.R * pi) + lat1\n",
    "            lng2 = 180 * dist*cos(radians(angle)) / (self.R * pi * cos(radians(lat1))) + lng1\n",
    "            return (lng2, lat2)"
   ]
  },
  {
   "cell_type": "code",
   "execution_count": 13,
   "metadata": {},
   "outputs": [
    {
     "name": "stdout",
     "output_type": "stream",
     "text": [
      "0.0129926406486236/pi + 116.498079 0.00998895154713377/pi + 39.752304\n"
     ]
    }
   ],
   "source": [
    "\n",
    "if __name__ == '__main__':\n",
    "    functions = Get_new_gps()\n",
    "    lng1, lat1 = [116.498079, 39.752304]\n",
    "    lng4, lat4 = functions.get_new_lng_angle(lng1, lat1, dist=500, angle=45)\n",
    "    print(lng4, lat4)"
   ]
  },
  {
   "cell_type": "code",
   "execution_count": 21,
   "metadata": {},
   "outputs": [],
   "source": [
    "R = 6371 * 1000\n",
    "def get_new_lng_angle(lng1, lat1, dist, angle):\n",
    "    lat2 = 180 * dist*sin(radians(angle)) / (R * pi) + lat1\n",
    "    lng2 = 180 * dist*cos(radians(angle)) / (R * pi * cos(radians(lat1))) + lng1\n",
    "    return (lng2, lat2)"
   ]
  },
  {
   "cell_type": "code",
   "execution_count": 25,
   "metadata": {},
   "outputs": [
    {
     "name": "stdout",
     "output_type": "stream",
     "text": [
      "0.0180952206700595/pi + 116.498079 0.00245304284885006/pi + 39.752304\n"
     ]
    }
   ],
   "source": [
    "lng1, lat1 = [116.498079, 39.752304]\n",
    "lng4, lat4 = get_new_lng_angle(lng1, lat1, 500, 10)\n",
    "print(lng4, lat4)"
   ]
  },
  {
   "cell_type": "code",
   "execution_count": null,
   "metadata": {},
   "outputs": [],
   "source": []
  },
  {
   "cell_type": "code",
   "execution_count": null,
   "metadata": {},
   "outputs": [],
   "source": [
    "# New Test"
   ]
  },
  {
   "cell_type": "code",
   "execution_count": 35,
   "metadata": {},
   "outputs": [
    {
     "name": "stdout",
     "output_type": "stream",
     "text": [
      "-33.79493902327247\n",
      "151.18202342090615\n"
     ]
    }
   ],
   "source": [
    "import math\n",
    "\n",
    "R = 6378.1 #Radius of the Earth\n",
    "brng = 2.4975662 #Bearing is 143 degrees converted to radians.\n",
    "d =0.06 #Distance in km\n",
    "\n",
    "# start: -33.794508, 151.181634\n",
    "# end: -33.794794, 151.182362\n",
    "\n",
    "lat1 = math.radians(-33.794508) #Current lat point converted to radians\n",
    "lon1 = math.radians(151.181634) #Current long point converted to radians\n",
    "\n",
    "lat2 = math.asin( math.sin(lat1)*math.cos(d/R) +\n",
    "     math.cos(lat1)*math.sin(d/R)*math.cos(brng))\n",
    "\n",
    "lon2 = lon1 + math.atan2(math.sin(brng)*math.sin(d/R)*math.cos(lat1),\n",
    "             math.cos(d/R)-math.sin(lat1)*math.sin(lat2))\n",
    "\n",
    "lat2 = math.degrees(lat2)\n",
    "lon2 = math.degrees(lon2)\n",
    "\n",
    "print(lat2)\n",
    "print(lon2)"
   ]
  },
  {
   "cell_type": "code",
   "execution_count": 28,
   "metadata": {},
   "outputs": [
    {
     "name": "stdout",
     "output_type": "stream",
     "text": [
      "36.86989764584401\n",
      "53.13010235415599\n",
      "90.0\n"
     ]
    }
   ],
   "source": [
    "import math\n",
    "a=3\n",
    "b=4\n",
    "c=5\n",
    "A=math.degrees(math.acos((a*a-b*b-c*c)/(-2*b*c)))\n",
    "B=math.degrees(math.acos((b*b-a*a-c*c)/(-2*a*c)))\n",
    "C=math.degrees(math.acos((c*c-a*a-b*b)/(-2*a*b)))\n",
    "\n",
    "print(A)\n",
    "print(B)\n",
    "print(C)\n"
   ]
  },
  {
   "cell_type": "code",
   "execution_count": 37,
   "metadata": {},
   "outputs": [
    {
     "name": "stdout",
     "output_type": "stream",
     "text": [
      "Collecting geopy\n",
      "\u001b[?25l  Downloading https://files.pythonhosted.org/packages/53/fc/3d1b47e8e82ea12c25203929efb1b964918a77067a874b2c7631e2ec35ec/geopy-1.21.0-py2.py3-none-any.whl (104kB)\n",
      "\u001b[K     |████████████████████████████████| 112kB 1.2MB/s eta 0:00:01\n",
      "\u001b[?25hCollecting geographiclib<2,>=1.49 (from geopy)\n",
      "  Downloading https://files.pythonhosted.org/packages/8b/62/26ec95a98ba64299163199e95ad1b0e34ad3f4e176e221c40245f211e425/geographiclib-1.50-py3-none-any.whl\n",
      "Installing collected packages: geographiclib, geopy\n",
      "Successfully installed geographiclib-1.50 geopy-1.21.0\n",
      "Note: you may need to restart the kernel to use updated packages.\n"
     ]
    }
   ],
   "source": [
    "pip install geopy"
   ]
  },
  {
   "cell_type": "code",
   "execution_count": 44,
   "metadata": {},
   "outputs": [
    {
     "name": "stdout",
     "output_type": "stream",
     "text": [
      "151.1816631760041 -33.79454044341328\n"
     ]
    },
    {
     "name": "stderr",
     "output_type": "stream",
     "text": [
      "/Users/Luyao/opt/anaconda3/lib/python3.7/site-packages/ipykernel_launcher.py:6: DeprecationWarning: Vincenty is deprecated and is going to be removed in geopy 2.0. Use `geopy.distance.geodesic` (or the default `geopy.distance.distance`) instead, which is more accurate and always converges.\n",
      "  \n"
     ]
    }
   ],
   "source": [
    "import geopy as g \n",
    "import geopy.distance as gp \n",
    "from geopy.units import radians\n",
    "\n",
    "start = g.Point(-33.794508, 151.181634)\n",
    "distance = g.distance.VincentyDistance(meters = 4.5)\n",
    "\n",
    "result = distance.destination(start, 143.1) #no radians here\n",
    "print(result.longitude, result.latitude)\n",
    "# end: -33.794794, 151.182362"
   ]
  },
  {
   "cell_type": "code",
   "execution_count": 50,
   "metadata": {},
   "outputs": [],
   "source": [
    "# define a function that output the coordinates with the input of distance and angle\n",
    "def get_coordinates(start_ponit, dist, angle):\n",
    "    lat,lon = start_ponit\n",
    "    start = g.Point(lat, lon)\n",
    "    distance = g.distance.geodesic(meters = dist)\n",
    "    \n",
    "    result = distance.destination(start, angle)\n",
    "    ans = [result.latitude, result.longitude]\n",
    "    \n",
    "    return ans\n",
    "    "
   ]
  },
  {
   "cell_type": "code",
   "execution_count": 53,
   "metadata": {},
   "outputs": [
    {
     "data": {
      "text/plain": [
       "[-33.794353360970476, 151.18210419801892]"
      ]
     },
     "execution_count": 53,
     "metadata": {},
     "output_type": "execute_result"
    }
   ],
   "source": [
    "get_coordinates([-33.794508, 151.181634], 46.8, 68.5)"
   ]
  },
  {
   "cell_type": "code",
   "execution_count": 101,
   "metadata": {},
   "outputs": [],
   "source": [
    "# define a function to get the disctance from current point to label -2\n",
    "number_of_rows = 17\n",
    "number_of_columns = 14\n",
    "\n",
    "def get_distance(start_label,current_label):\n",
    "    horizontal_len = current_label//number_of_rows\n",
    "    vertical_len = (current_label-start_label)%number_of_rows\n",
    "    \n",
    "    distance = math.sqrt(horizontal_len*horizontal_len + vertical_len*vertical_len)\n",
    "    \n",
    "    return distance\n",
    "\n",
    "def get_angle(start_label,current_label):\n",
    "    horizontal_len = (current_label-start_label)//number_of_rows\n",
    "    vertical_len = (current_label-start_label)%number_of_rows\n",
    "    distance = math.sqrt(horizontal_len*horizontal_len + vertical_len*vertical_len)\n",
    "    \n",
    "    print(horizontal_len,vertical_len,distance)\n",
    "    if (horizontal_len == distance):\n",
    "        angle = 90\n",
    "    else:\n",
    "        A=math.degrees(math.acos((horizontal_len*horizontal_len-vertical_len*vertical_len-distance*distance)/(-2*vertical_len*distance)))\n",
    "    \n",
    "        A = round(A)\n",
    "        \n",
    "        angle = 180 - A\n",
    "        \n",
    "    \n",
    "    return angle\n",
    "    \n",
    "    \n",
    "    "
   ]
  },
  {
   "cell_type": "code",
   "execution_count": 102,
   "metadata": {},
   "outputs": [
    {
     "data": {
      "text/plain": [
       "10.0"
      ]
     },
     "execution_count": 102,
     "metadata": {},
     "output_type": "execute_result"
    }
   ],
   "source": [
    "get_distance(-2,8)"
   ]
  },
  {
   "cell_type": "code",
   "execution_count": 104,
   "metadata": {},
   "outputs": [
    {
     "name": "stdout",
     "output_type": "stream",
     "text": [
      "4 4 5.656854249492381\n"
     ]
    },
    {
     "data": {
      "text/plain": [
       "135"
      ]
     },
     "execution_count": 104,
     "metadata": {},
     "output_type": "execute_result"
    }
   ],
   "source": [
    "get_angle(-2,70)"
   ]
  },
  {
   "cell_type": "code",
   "execution_count": 105,
   "metadata": {},
   "outputs": [],
   "source": [
    "coordiantes_of_start_point = [-33.794508, 151.181634]\n",
    "def output_current_coordiantes(start_label,current_label):\n",
    "    \n",
    "    dist = get_distance(start_label,current_label)\n",
    "    angle = get_angle(start_label,current_label)\n",
    "    \n",
    "    current_coordinates = get_coordinates(coordiantes_of_start_point, dist, angle)\n",
    "    \n",
    "    return current_coordinates\n",
    "    \n",
    "    "
   ]
  },
  {
   "cell_type": "code",
   "execution_count": 107,
   "metadata": {},
   "outputs": [
    {
     "name": "stdout",
     "output_type": "stream",
     "text": [
      "13 13 18.384776310850235\n"
     ]
    },
    {
     "data": {
      "text/plain": [
       "[-33.79462520290069, 151.18177437887732]"
      ]
     },
     "execution_count": 107,
     "metadata": {},
     "output_type": "execute_result"
    }
   ],
   "source": [
    "output_current_coordiantes(-2,232)"
   ]
  },
  {
   "cell_type": "code",
   "execution_count": null,
   "metadata": {},
   "outputs": [],
   "source": []
  }
 ],
 "metadata": {
  "kernelspec": {
   "display_name": "Python 3",
   "language": "python",
   "name": "python3"
  },
  "language_info": {
   "codemirror_mode": {
    "name": "ipython",
    "version": 3
   },
   "file_extension": ".py",
   "mimetype": "text/x-python",
   "name": "python",
   "nbconvert_exporter": "python",
   "pygments_lexer": "ipython3",
   "version": "3.7.4"
  }
 },
 "nbformat": 4,
 "nbformat_minor": 2
}
